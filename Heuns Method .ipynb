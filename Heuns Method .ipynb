{
 "cells": [
  {
   "cell_type": "markdown",
   "id": "0b235017",
   "metadata": {},
   "source": [
    "# 3.Heun's Method  "
   ]
  },
  {
   "cell_type": "markdown",
   "id": "05363900",
   "metadata": {},
   "source": [
    "$$\\begin{array} {c|ccc} 0 & 0 \\\\\n",
    "                     \\frac{1}{3} & \\frac{1}{3} & 0 \\\\\n",
    "                     \\frac{2}{3} & 0 & \\frac{2}{3} & 0 \\\\\n",
    "                     \\hline  & \\frac{1}{4} & 0 & \\frac{3}{4} \\end{array}$$"
   ]
  },
  {
   "cell_type": "markdown",
   "id": "2abf6ee6",
   "metadata": {},
   "source": [
    "$$ K_{1} = f(t_{i},u_{i}) \\\\\n",
    "   K_{2} = f(t_{i}+\\frac{h}{3}, u_{i} + \\frac{1}{3}hK_{1}) \\\\ $$\n",
    "   $$ K_{3} = f(t_{i} + \\frac{2h}{3}, u_{i} + \\frac{2}{3}hK_{2})  $$"
   ]
  },
  {
   "cell_type": "markdown",
   "id": "5bca2e0e",
   "metadata": {},
   "source": [
    "$$ \\Psi = \\frac{1}{4}K_{1} + \\frac{3}{4}K_{3} \\\\\n",
    "\\\\ u_{i+1} = u_{i} + h\\Psi \\\\\n",
    "  u_{i+1} = u_{i} + h(\\frac{1}{4}K_{1} + \\frac{3}{4}K_{3})$$"
   ]
  },
  {
   "cell_type": "code",
   "execution_count": 2,
   "id": "6fed0b46",
   "metadata": {},
   "outputs": [],
   "source": [
    "def heun(ti,ui,f,h):\n",
    "    K1 = f(ti,ui)\n",
    "    K2 = f(ti + (h/3),ui+ (h*K1/3))\n",
    "    K3 = f(ti + (2*h/3),ui + (2*h*K2/3))\n",
    "    return ui + h/4*(K1 + 3*K3)"
   ]
  },
  {
   "cell_type": "markdown",
   "id": "be165c90",
   "metadata": {},
   "source": [
    "## Consider the Diffrential Equation with the IVP "
   ]
  },
  {
   "cell_type": "markdown",
   "id": "4c6bdf0b",
   "metadata": {},
   "source": [
    "$$ u' = \\frac{t}{10}(1- u^2)   \\quad u(0) = 0 $$"
   ]
  },
  {
   "cell_type": "code",
   "execution_count": 3,
   "id": "f54da914",
   "metadata": {},
   "outputs": [],
   "source": [
    "import numpy as np \n",
    "import matplotlib.pyplot as plt\n",
    "import math"
   ]
  },
  {
   "cell_type": "code",
   "execution_count": 4,
   "id": "d3f89930",
   "metadata": {},
   "outputs": [],
   "source": [
    "def f(t,u):\n",
    "    return 0.1*t*(1-u**2)"
   ]
  },
  {
   "cell_type": "code",
   "execution_count": 5,
   "id": "59b75a65",
   "metadata": {},
   "outputs": [],
   "source": [
    "u_heun = []\n",
    "t_heun = []"
   ]
  },
  {
   "cell_type": "code",
   "execution_count": 6,
   "id": "056a1656",
   "metadata": {},
   "outputs": [],
   "source": [
    "u = 0 \n",
    "t = 0\n",
    "h = 0.5 \n",
    "while t<= 10:\n",
    "    u = heun(t,u,f,h)\n",
    "    t = t + h\n",
    "    u_heun.append(u)\n",
    "    t_heun.append(t)"
   ]
  },
  {
   "cell_type": "code",
   "execution_count": 7,
   "id": "77307d23",
   "metadata": {},
   "outputs": [
    {
     "data": {
      "text/plain": [
       "[0.012499614197530864,\n",
       " 0.04996098343476885,\n",
       " 0.11203659767433236,\n",
       " 0.19739411088521858,\n",
       " 0.3027374710382261,\n",
       " 0.42192450766120154,\n",
       " 0.545889565561822,\n",
       " 0.6640163514572215,\n",
       " 0.7667796870097592,\n",
       " 0.8483354932738572,\n",
       " 0.9075448536178802,\n",
       " 0.9470743558255625,\n",
       " 0.9714932981203965,\n",
       " 0.9855309721465716,\n",
       " 0.9930743366710085,\n",
       " 0.9968744041019763,\n",
       " 0.9986714408706496,\n",
       " 0.9994691639131719,\n",
       " 0.9998011788363504,\n",
       " 0.9999304498482446,\n",
       " 0.9999773822943419]"
      ]
     },
     "execution_count": 7,
     "metadata": {},
     "output_type": "execute_result"
    }
   ],
   "source": [
    "u_heun"
   ]
  },
  {
   "cell_type": "code",
   "execution_count": 8,
   "id": "6271dd8c",
   "metadata": {},
   "outputs": [],
   "source": [
    "def u(t):\n",
    "    return (np.exp(t**2/10)-1)/(np.exp(t**2/10)+1)"
   ]
  },
  {
   "cell_type": "markdown",
   "id": "e5dab83d",
   "metadata": {},
   "source": [
    "By solving Analytically we get the function $$ u(t) = \\frac{e^\\frac{t^{2}}{10}-1}{e^\\frac{t^{2}}{10}+1} $$"
   ]
  },
  {
   "cell_type": "code",
   "execution_count": 9,
   "id": "edc96a50",
   "metadata": {},
   "outputs": [
    {
     "data": {
      "text/plain": [
       "0.9999092042625951"
      ]
     },
     "execution_count": 9,
     "metadata": {},
     "output_type": "execute_result"
    }
   ],
   "source": [
    "u(10)"
   ]
  },
  {
   "cell_type": "code",
   "execution_count": 10,
   "id": "5eeba140",
   "metadata": {
    "scrolled": false
   },
   "outputs": [
    {
     "data": {
      "image/png": "[encoded data removed]",
      "text/plain": [
       "<Figure size 640x480 with 1 Axes>"
      ]
     },
     "metadata": {},
     "output_type": "display_data"
    }
   ],
   "source": [
    "t = np.linspace(0,11,50)\n",
    "plt.plot(t,u(t),label = 'Exact')\n",
    "plt.plot(t_heun,u_heun,color = 'red',marker = '^',linewidth = 0.0 ,label = \"Heun's Method'\")\n",
    "plt.legend()\n",
    "plt.show()"
   ]
  },
  {
   "cell_type": "code",
   "execution_count": 12,
   "id": "dce73b41",
   "metadata": {},
   "outputs": [
    {
     "data": {
      "text/plain": [
       "6.817803174674619e-05"
      ]
     },
     "execution_count": 12,
     "metadata": {},
     "output_type": "execute_result"
    }
   ],
   "source": [
    "error = u_heun[20] - u(10)\n",
    "error"
   ]
  },
  {
   "cell_type": "code",
   "execution_count": null,
   "id": "5d71401c",
   "metadata": {},
   "outputs": [],
   "source": []
  }
 ],
 "metadata": {
  "kernelspec": {
   "display_name": "Python 3 (ipykernel)",
   "language": "python",
   "name": "python3"
  },
  "language_info": {
   "codemirror_mode": {
    "name": "ipython",
    "version": 3
   },
   "file_extension": ".py",
   "mimetype": "text/x-python",
   "name": "python",
   "nbconvert_exporter": "python",
   "pygments_lexer": "ipython3",
   "version": "3.9.7"
  }
 },
 "nbformat": 4,
 "nbformat_minor": 5
}
