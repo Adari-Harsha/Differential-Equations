{
 "cells": [
  {
   "cell_type": "code",
   "execution_count": 46,
   "id": "11c553f4",
   "metadata": {},
   "outputs": [],
   "source": [
    "import numpy as np \n",
    "import matplotlib.pyplot as plt "
   ]
  },
  {
   "cell_type": "markdown",
   "id": "a2a48746",
   "metadata": {},
   "source": [
    "# Numerical Methods "
   ]
  },
  {
   "cell_type": "markdown",
   "id": "2575d949",
   "metadata": {},
   "source": [
    "## 1. Explicit Euler's Method \n",
    "The Butcher array is denoted as "
   ]
  },
  {
   "cell_type": "markdown",
   "id": "96756968",
   "metadata": {},
   "source": [
    " $$\\begin{array} {c|cc} 0 & 0\\\\ \\hline & 1 \\end{array}$$"
   ]
  },
  {
   "cell_type": "markdown",
   "id": "0690a0d8",
   "metadata": {},
   "source": [
    "The Numerical Method $\\Psi $ is given as $$ \\Psi = f(t_{i},u_{i}) $$"
   ]
  },
  {
   "cell_type": "markdown",
   "id": "8555f016",
   "metadata": {},
   "source": [
    "Then the next iteration is given as $$ u_{i+1} = u_{i} + h\\Psi $$"
   ]
  },
  {
   "cell_type": "markdown",
   "id": "ec7a7fdd",
   "metadata": {},
   "source": [
    "Thus, $$ u_{i+1} = u_{i} + hf(t_{i},u_{i}) $$ "
   ]
  },
  {
   "cell_type": "markdown",
   "id": "7f6a7ecd",
   "metadata": {},
   "source": [
    "Consider the ODE with IVP, $$ u' = u +2t \\quad u(0) = 0 $$  "
   ]
  },
  {
   "cell_type": "code",
   "execution_count": 62,
   "id": "7c748311",
   "metadata": {},
   "outputs": [],
   "source": [
    "def f(t,u):\n",
    "    return u + 2*t"
   ]
  },
  {
   "cell_type": "code",
   "execution_count": 63,
   "id": "cf5fdb23",
   "metadata": {},
   "outputs": [],
   "source": [
    "def euler(ti,ui,h,f):\n",
    "    return ui + h*f(ti,ui)"
   ]
  },
  {
   "cell_type": "code",
   "execution_count": 98,
   "id": "266479db",
   "metadata": {},
   "outputs": [],
   "source": [
    "t = 0\n",
    "u = 0 \n",
    "h = 1\n",
    "t_euler = []\n",
    "u_euler = []\n",
    "while t<=10:\n",
    "    u = euler(t,u,h,f)\n",
    "    t = t + h\n",
    "    t_euler.append(t)\n",
    "    u_euler.append(u)"
   ]
  },
  {
   "cell_type": "code",
   "execution_count": 99,
   "id": "e3d5d3aa",
   "metadata": {},
   "outputs": [
    {
     "data": {
      "text/plain": [
       "[0, 2, 8, 22, 52, 114, 240, 494, 1004, 2026, 4072]"
      ]
     },
     "execution_count": 99,
     "metadata": {},
     "output_type": "execute_result"
    }
   ],
   "source": [
    "u_euler"
   ]
  },
  {
   "cell_type": "markdown",
   "id": "158754d0",
   "metadata": {},
   "source": [
    "## 2. Improved Euler's Method"
   ]
  },
  {
   "cell_type": "markdown",
   "id": "e1385e76",
   "metadata": {},
   "source": [
    "$$\\begin{array} {c|cc} 0 & 0 & 0\\\\\n",
    "                     \\frac{1}{2} & \\frac{1}{2} & 0 \\\\\n",
    "                     \\hline  & 0 & 1 \\end{array}$$"
   ]
  },
  {
   "cell_type": "markdown",
   "id": "af77d2e4",
   "metadata": {},
   "source": [
    "$$K_{1}= f(t,u) \\quad  K_{2} = f((t + 0.5),(0.5hK_{1})) \\\\ \\Psi = K_{2}$$"
   ]
  },
  {
   "cell_type": "markdown",
   "id": "3935d596",
   "metadata": {},
   "source": [
    "$$ u_{i+1} = u_{i} + hf((t_{i}+0.5h),(u_{i}+0.5hf(t_{i},u_{i})) $$"
   ]
  },
  {
   "cell_type": "code",
   "execution_count": 51,
   "id": "8d2c8621",
   "metadata": {},
   "outputs": [],
   "source": [
    "def improved_euler(ti,ui,h,f):\n",
    "    return ui + h*f(ti+0.5*h,ui + 0.5*h*f(ti,ui))"
   ]
  },
  {
   "cell_type": "code",
   "execution_count": 100,
   "id": "c945b017",
   "metadata": {},
   "outputs": [],
   "source": [
    "t = 0\n",
    "u = 0 \n",
    "h = 1\n",
    "t_imp_euler = []\n",
    "u_imp_euler = []\n",
    "while t <= 10:\n",
    "    u = improved_euler(t,u,h,f)\n",
    "    t = t + h\n",
    "    t_imp_euler.append(t)\n",
    "    u_imp_euler.append(u)"
   ]
  },
  {
   "cell_type": "code",
   "execution_count": 101,
   "id": "04be4d96",
   "metadata": {},
   "outputs": [
    {
     "data": {
      "text/plain": [
       "[1.0,\n",
       " 6.5,\n",
       " 23.25,\n",
       " 68.125,\n",
       " 183.3125,\n",
       " 474.28125,\n",
       " 1204.703125,\n",
       " 3033.7578125,\n",
       " 7609.39453125,\n",
       " 19051.486328125,\n",
       " 47659.7158203125]"
      ]
     },
     "execution_count": 101,
     "metadata": {},
     "output_type": "execute_result"
    }
   ],
   "source": [
    "u_imp_euler"
   ]
  },
  {
   "cell_type": "markdown",
   "id": "b9b6cf9f",
   "metadata": {},
   "source": [
    "## Comparison between Euler and Improved Euler Method "
   ]
  },
  {
   "cell_type": "code",
   "execution_count": 102,
   "id": "d10a1316",
   "metadata": {},
   "outputs": [
    {
     "data": {
      "image/png": "[encoded data removed]",
      "text/plain": [
       "<Figure size 640x480 with 1 Axes>"
      ]
     },
     "metadata": {},
     "output_type": "display_data"
    }
   ],
   "source": [
    "plt.plot(t_euler,u_euler,color = 'red',marker='*',linewidth=0.0, label='Euler Method')\n",
    "plt.plot(t_imp_euler,u_imp_euler,color = 'Green',marker='*',linewidth=0.0, label='Improved Euler Method')\n",
    "plt.legend()\n",
    "plt.show()"
   ]
  },
  {
   "cell_type": "markdown",
   "id": "ad86899a",
   "metadata": {},
   "source": [
    "By solving the above IVP analytically using variation of parameters we get soultion $$ u(t) = 2(-t+e^t-1) $$ "
   ]
  },
  {
   "cell_type": "code",
   "execution_count": 103,
   "id": "5fc8ef2d",
   "metadata": {},
   "outputs": [],
   "source": [
    "def u(t):\n",
    "    return 2*(-t+np.exp(t)-1)"
   ]
  },
  {
   "cell_type": "code",
   "execution_count": 104,
   "id": "0682668b",
   "metadata": {},
   "outputs": [
    {
     "data": {
      "image/png": "[encoded data removed]",
      "text/plain": [
       "<Figure size 640x480 with 1 Axes>"
      ]
     },
     "metadata": {},
     "output_type": "display_data"
    }
   ],
   "source": [
    "t = np.linspace(0,11,50)\n",
    "plt.plot(t,u(t),label = 'Exact')\n",
    "plt.plot(t_euler,u_euler,color = 'red',marker = '^',linewidth = 0.0 ,label = 'Euler Method')\n",
    "plt.plot(t_imp_euler,u_imp_euler,color = 'Green',marker='*',linewidth=0.0, label='Improved Euler Method')\n",
    "plt.legend()\n",
    "plt.show()"
   ]
  },
  {
   "cell_type": "markdown",
   "id": "6f11bd15",
   "metadata": {},
   "source": []
  },
  {
   "cell_type": "markdown",
   "id": "a8fb8549",
   "metadata": {},
   "source": []
  },
  {
   "cell_type": "markdown",
   "id": "234997e6",
   "metadata": {},
   "source": []
  },
  {
   "cell_type": "markdown",
   "id": "331ad4d7",
   "metadata": {},
   "source": []
  },
  {
   "cell_type": "code",
   "execution_count": 105,
   "id": "79608118",
   "metadata": {},
   "outputs": [],
   "source": [
    "3)\n",
    "    return ui + h/4*(K1 + 3*K3)"
   ]
  },
  {
   "cell_type": "code",
   "execution_count": 109,
   "id": "c140391c",
   "metadata": {},
   "outputs": [
    {
     "ename": "TypeError",
     "evalue": "'int' object is not callable",
     "output_type": "error",
     "traceback": [
      "\u001b[1;31m---------------------------------------------------------------------------\u001b[0m",
      "\u001b[1;31mTypeError\u001b[0m                                 Traceback (most recent call last)",
      "Cell \u001b[1;32mIn[109], line 7\u001b[0m\n\u001b[0;32m      5\u001b[0m h \u001b[38;5;241m=\u001b[39m \u001b[38;5;241m1\u001b[39m\n\u001b[0;32m      6\u001b[0m \u001b[38;5;28;01mwhile\u001b[39;00m t\u001b[38;5;241m<\u001b[39m\u001b[38;5;241m=\u001b[39m \u001b[38;5;241m10\u001b[39m:\n\u001b[1;32m----> 7\u001b[0m     u \u001b[38;5;241m=\u001b[39m \u001b[43mheun\u001b[49m\u001b[43m(\u001b[49m\u001b[43mf\u001b[49m\u001b[43m,\u001b[49m\u001b[43mt\u001b[49m\u001b[43m,\u001b[49m\u001b[43mu\u001b[49m\u001b[43m,\u001b[49m\u001b[43mh\u001b[49m\u001b[43m)\u001b[49m\n\u001b[0;32m      8\u001b[0m     t \u001b[38;5;241m=\u001b[39m t\u001b[38;5;241m+\u001b[39mh\n\u001b[0;32m      9\u001b[0m     u_heun\u001b[38;5;241m.\u001b[39mappend(u)\n",
      "Cell \u001b[1;32mIn[105], line 2\u001b[0m, in \u001b[0;36mheun\u001b[1;34m(ti, ui, f, h)\u001b[0m\n\u001b[0;32m      1\u001b[0m \u001b[38;5;28;01mdef\u001b[39;00m \u001b[38;5;21mheun\u001b[39m(ti,ui,f,h):\n\u001b[1;32m----> 2\u001b[0m     K1 \u001b[38;5;241m=\u001b[39m \u001b[43mf\u001b[49m\u001b[43m(\u001b[49m\u001b[43mti\u001b[49m\u001b[43m,\u001b[49m\u001b[43mui\u001b[49m\u001b[43m)\u001b[49m\n\u001b[0;32m      3\u001b[0m     K2 \u001b[38;5;241m=\u001b[39m f(ti \u001b[38;5;241m+\u001b[39m h\u001b[38;5;241m/\u001b[39m\u001b[38;5;241m3\u001b[39m,ui\u001b[38;5;241m+\u001b[39m h\u001b[38;5;241m*\u001b[39mK1\u001b[38;5;241m/\u001b[39m\u001b[38;5;241m3\u001b[39m)\n\u001b[0;32m      4\u001b[0m     K3 \u001b[38;5;241m=\u001b[39m f(ti \u001b[38;5;241m+\u001b[39m \u001b[38;5;241m2\u001b[39m\u001b[38;5;241m*\u001b[39mh\u001b[38;5;241m/\u001b[39m\u001b[38;5;241m3\u001b[39m,ui \u001b[38;5;241m+\u001b[39m \u001b[38;5;241m2\u001b[39m\u001b[38;5;241m*\u001b[39mh\u001b[38;5;241m*\u001b[39mK2\u001b[38;5;241m/\u001b[39m\u001b[38;5;241m3\u001b[39m)\n",
      "\u001b[1;31mTypeError\u001b[0m: 'int' object is not callable"
     ]
    }
   ],
   "source": []
  },
  {
   "cell_type": "code",
   "execution_count": 111,
   "id": "69668f8a",
   "metadata": {},
   "outputs": [
    {
     "ename": "TypeError",
     "evalue": "'int' object is not callable",
     "output_type": "error",
     "traceback": [
      "\u001b[1;31m---------------------------------------------------------------------------\u001b[0m",
      "\u001b[1;31mTypeError\u001b[0m                                 Traceback (most recent call last)",
      "Cell \u001b[1;32mIn[111], line 7\u001b[0m\n\u001b[0;32m      5\u001b[0m h \u001b[38;5;241m=\u001b[39m \u001b[38;5;241m1\u001b[39m\n\u001b[0;32m      6\u001b[0m \u001b[38;5;28;01mwhile\u001b[39;00m t\u001b[38;5;241m<\u001b[39m\u001b[38;5;241m=\u001b[39m \u001b[38;5;241m10\u001b[39m:\n\u001b[1;32m----> 7\u001b[0m     u \u001b[38;5;241m=\u001b[39m \u001b[43mheun\u001b[49m\u001b[43m(\u001b[49m\u001b[43mf\u001b[49m\u001b[43m,\u001b[49m\u001b[43mt\u001b[49m\u001b[43m,\u001b[49m\u001b[43mu\u001b[49m\u001b[43m,\u001b[49m\u001b[43mh\u001b[49m\u001b[43m)\u001b[49m\n\u001b[0;32m      8\u001b[0m     t \u001b[38;5;241m=\u001b[39m t\u001b[38;5;241m+\u001b[39mh\n\u001b[0;32m      9\u001b[0m     u_heun\u001b[38;5;241m.\u001b[39mappend(u)\n",
      "Cell \u001b[1;32mIn[105], line 2\u001b[0m, in \u001b[0;36mheun\u001b[1;34m(ti, ui, f, h)\u001b[0m\n\u001b[0;32m      1\u001b[0m \u001b[38;5;28;01mdef\u001b[39;00m \u001b[38;5;21mheun\u001b[39m(ti,ui,f,h):\n\u001b[1;32m----> 2\u001b[0m     K1 \u001b[38;5;241m=\u001b[39m \u001b[43mf\u001b[49m\u001b[43m(\u001b[49m\u001b[43mti\u001b[49m\u001b[43m,\u001b[49m\u001b[43mui\u001b[49m\u001b[43m)\u001b[49m\n\u001b[0;32m      3\u001b[0m     K2 \u001b[38;5;241m=\u001b[39m f(ti \u001b[38;5;241m+\u001b[39m h\u001b[38;5;241m/\u001b[39m\u001b[38;5;241m3\u001b[39m,ui\u001b[38;5;241m+\u001b[39m h\u001b[38;5;241m*\u001b[39mK1\u001b[38;5;241m/\u001b[39m\u001b[38;5;241m3\u001b[39m)\n\u001b[0;32m      4\u001b[0m     K3 \u001b[38;5;241m=\u001b[39m f(ti \u001b[38;5;241m+\u001b[39m \u001b[38;5;241m2\u001b[39m\u001b[38;5;241m*\u001b[39mh\u001b[38;5;241m/\u001b[39m\u001b[38;5;241m3\u001b[39m,ui \u001b[38;5;241m+\u001b[39m \u001b[38;5;241m2\u001b[39m\u001b[38;5;241m*\u001b[39mh\u001b[38;5;241m*\u001b[39mK2\u001b[38;5;241m/\u001b[39m\u001b[38;5;241m3\u001b[39m)\n",
      "\u001b[1;31mTypeError\u001b[0m: 'int' object is not callable"
     ]
    }
   ],
   "source": []
  },
  {
   "cell_type": "code",
   "execution_count": 108,
   "id": "e2bf8cdc",
   "metadata": {},
   "outputs": [
    {
     "data": {
      "text/plain": [
       "[]"
      ]
     },
     "execution_count": 108,
     "metadata": {},
     "output_type": "execute_result"
    }
   ],
   "source": [
    "u_heun"
   ]
  },
  {
   "cell_type": "code",
   "execution_count": null,
   "id": "0601001e",
   "metadata": {},
   "outputs": [],
   "source": []
  }
 ],
 "metadata": {
  "kernelspec": {
   "display_name": "Python 3 (ipykernel)",
   "language": "python",
   "name": "python3"
  },
  "language_info": {
   "codemirror_mode": {
    "name": "ipython",
    "version": 3
   },
   "file_extension": ".py",
   "mimetype": "text/x-python",
   "name": "python",
   "nbconvert_exporter": "python",
   "pygments_lexer": "ipython3",
   "version": "3.9.7"
  }
 },
 "nbformat": 4,
 "nbformat_minor": 5
}
