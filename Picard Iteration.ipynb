{
 "cells": [
  {
   "cell_type": "code",
   "execution_count": 7,
   "id": "5f723796",
   "metadata": {},
   "outputs": [],
   "source": [
    "import numpy as np \n",
    "import sympy as sp \n",
    "import matplotlib.pyplot as plt"
   ]
  },
  {
   "cell_type": "markdown",
   "id": "921ea0f0",
   "metadata": {},
   "source": [
    "# Picard-Lindelöf Method"
   ]
  },
  {
   "cell_type": "markdown",
   "id": "f55734e4",
   "metadata": {},
   "source": [
    "For a function $$ u' = f(t,u) $$ with initial conditions at $t = 0,  u = u_{0}$ where ,$$ u_{0}=\\alpha $$ Here $I \\subset \\mathbb{R}$ is a compact interval and $ u,u_{0} \\in I$ an\n",
    "d $\\alpha \\in \\mathbb{R^m} $ and function $f$ is  continious in this interval $I$"
   ]
  },
  {
   "cell_type": "markdown",
   "id": "4d1a839e",
   "metadata": {},
   "source": [
    "$$u_{i+1} = u_{0} + \\int_{t_{0}}^t f(t,s)  ds  $$"
   ]
  },
  {
   "cell_type": "markdown",
   "id": "aeb99c78",
   "metadata": {},
   "source": [
    " For example consider this Function $$ u' = (1-t)e^{-u} $$ and considering the condition at $$ t = 0 , u_{0} = 2 $$ our first iteration looks like $$ u_{1} = u_{0} + \\int_{0}^t (1-s)e^{-u_{0}}ds$$ "
   ]
  },
  {
   "cell_type": "code",
   "execution_count": 64,
   "id": "96432e63",
   "metadata": {},
   "outputs": [],
   "source": [
    "s = sp.symbols('s',real= True)\n",
    "t = sp.symbols('t',real = True)"
   ]
  },
  {
   "cell_type": "code",
   "execution_count": 73,
   "id": "d40d89b1",
   "metadata": {},
   "outputs": [],
   "source": [
    "f = (1-s)*sp.exp(-u_0)"
   ]
  },
  {
   "cell_type": "code",
   "execution_count": 75,
   "id": "911dc47b",
   "metadata": {},
   "outputs": [],
   "source": [
    "iteration = []\n",
    "u_0 = 2\n",
    "for i in range (5): \n",
    "    integral = sp.integrate(f,(s,0,t)) \n",
    "    f = integral \n",
    "    iteration.append(f+u_0)"
   ]
  },
  {
   "cell_type": "code",
   "execution_count": 76,
   "id": "fa459650",
   "metadata": {},
   "outputs": [
    {
     "data": {
      "text/latex": [
       "$\\displaystyle - \\frac{t^{2}}{2 e^{2}} + \\frac{t}{e^{2}} + 2$"
      ],
      "text/plain": [
       "-t**2*exp(-2)/2 + t*exp(-2) + 2"
      ]
     },
     "execution_count": 76,
     "metadata": {},
     "output_type": "execute_result"
    }
   ],
   "source": [
    "iteration[0]"
   ]
  },
  {
   "cell_type": "code",
   "execution_count": 78,
   "id": "b287bcdf",
   "metadata": {},
   "outputs": [
    {
     "data": {
      "text/latex": [
       "$\\displaystyle t \\left(- \\frac{t^{2}}{2 e^{2}} + \\frac{t}{e^{2}}\\right) + 2$"
      ],
      "text/plain": [
       "t*(-t**2*exp(-2)/2 + t*exp(-2)) + 2"
      ]
     },
     "execution_count": 78,
     "metadata": {},
     "output_type": "execute_result"
    }
   ],
   "source": [
    "iteration[1]"
   ]
  },
  {
   "cell_type": "code",
   "execution_count": 79,
   "id": "fb6b7bb4",
   "metadata": {},
   "outputs": [
    {
     "data": {
      "text/latex": [
       "$\\displaystyle t^{2} \\left(- \\frac{t^{2}}{2 e^{2}} + \\frac{t}{e^{2}}\\right) + 2$"
      ],
      "text/plain": [
       "t**2*(-t**2*exp(-2)/2 + t*exp(-2)) + 2"
      ]
     },
     "execution_count": 79,
     "metadata": {},
     "output_type": "execute_result"
    }
   ],
   "source": [
    "iteration[2]"
   ]
  },
  {
   "cell_type": "code",
   "execution_count": 80,
   "id": "c622c58b",
   "metadata": {},
   "outputs": [
    {
     "data": {
      "text/latex": [
       "$\\displaystyle t^{3} \\left(- \\frac{t^{2}}{2 e^{2}} + \\frac{t}{e^{2}}\\right) + 2$"
      ],
      "text/plain": [
       "t**3*(-t**2*exp(-2)/2 + t*exp(-2)) + 2"
      ]
     },
     "execution_count": 80,
     "metadata": {},
     "output_type": "execute_result"
    }
   ],
   "source": [
    "iteration[3]"
   ]
  },
  {
   "cell_type": "code",
   "execution_count": 81,
   "id": "c32dbe6c",
   "metadata": {},
   "outputs": [
    {
     "data": {
      "text/latex": [
       "$\\displaystyle t^{4} \\left(- \\frac{t^{2}}{2 e^{2}} + \\frac{t}{e^{2}}\\right) + 2$"
      ],
      "text/plain": [
       "t**4*(-t**2*exp(-2)/2 + t*exp(-2)) + 2"
      ]
     },
     "execution_count": 81,
     "metadata": {},
     "output_type": "execute_result"
    }
   ],
   "source": [
    "iteration[4]"
   ]
  },
  {
   "cell_type": "code",
   "execution_count": null,
   "id": "a80a0d6e",
   "metadata": {},
   "outputs": [],
   "source": []
  }
 ],
 "metadata": {
  "kernelspec": {
   "display_name": "Python 3 (ipykernel)",
   "language": "python",
   "name": "python3"
  },
  "language_info": {
   "codemirror_mode": {
    "name": "ipython",
    "version": 3
   },
   "file_extension": ".py",
   "mimetype": "text/x-python",
   "name": "python",
   "nbconvert_exporter": "python",
   "pygments_lexer": "ipython3",
   "version": "3.9.7"
  }
 },
 "nbformat": 4,
 "nbformat_minor": 5
}
